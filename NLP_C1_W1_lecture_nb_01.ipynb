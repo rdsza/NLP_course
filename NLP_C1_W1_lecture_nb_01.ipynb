{
  "nbformat": 4,
  "nbformat_minor": 0,
  "metadata": {
    "colab": {
      "provenance": [],
      "authorship_tag": "ABX9TyOQfVKAOFjUMMQc3uU07tMS",
      "include_colab_link": true
    },
    "kernelspec": {
      "name": "python3",
      "display_name": "Python 3"
    },
    "language_info": {
      "name": "python"
    }
  },
  "cells": [
    {
      "cell_type": "markdown",
      "metadata": {
        "id": "view-in-github",
        "colab_type": "text"
      },
      "source": [
        "<a href=\"https://colab.research.google.com/github/rdsza/NLP_course/blob/Week1/NLP_C1_W1_lecture_nb_01.ipynb\" target=\"_parent\"><img src=\"https://colab.research.google.com/assets/colab-badge.svg\" alt=\"Open In Colab\"/></a>"
      ]
    },
    {
      "cell_type": "code",
      "execution_count": null,
      "metadata": {
        "id": "e0eOwfRoQuG4"
      },
      "outputs": [],
      "source": []
    },
    {
      "cell_type": "markdown",
      "source": [
        "# Preprocessing\n",
        "\n",
        "In this lab, we will be exploring how to preprocess tweets for sentiment analysis. We will provide a function for preprocessing tweets during this week's assignment, but it is still good to know what is going on under the hood. By the end of this lecture, you will see how to use the [NLTK](http://www.nltk.org) package to perform a preprocessing pipeline for Twitter datasets."
      ],
      "metadata": {
        "id": "NS5uslbjyNUh"
      }
    },
    {
      "cell_type": "markdown",
      "source": [
        "# Setup\n",
        "\n",
        "You will be doing sentiment analysis on tweets in the first two weeks of this course. To help with that, we will be using the [Natural Language Toolkit (NLTK)](http://www.nltk.org/howto/twitter.html) package, an open-source Python library for natural language processing. It has modules for collecting, handling, and processing Twitter data, and you will be acquainted with them as we move along the course.\n",
        "\n",
        "For this exercise, we will use a Twitter dataset that comes with NLTK. This dataset has been manually annotated and serves to establish baselines for models quickly. Let us import them now as well as a few other libraries we will be using."
      ],
      "metadata": {
        "id": "7oNfnWLlykhC"
      }
    },
    {
      "cell_type": "code",
      "source": [
        "import nltk # Python library for NLP\n",
        "from nltk.corpus import twitter_samples # sample Twitter dataset from NLTK\n",
        "import matplotlib.pyplot as plt # Library for visualization\n",
        "import random # psuedo-random number generator"
      ],
      "metadata": {
        "id": "XPgDys7qyiXh"
      },
      "execution_count": 1,
      "outputs": []
    },
    {
      "cell_type": "markdown",
      "source": [
        "# About the Twitter dataset\n",
        "\n",
        "The sample dataset from NLTK is separated into positive and negative tweets. It contains 5000 positive tweets and 5000 negative tweets exactly. The exact match between these classes is not a coincidence. The intention is to have a balanced dataset. That does not reflect the real distributions of positive and negative classes in live Twitter streams. It is just because balanced datasets simplify the design of most computational methods that are required for sentiment analysis. However, it is better to be aware that this balance of classes is artificial."
      ],
      "metadata": {
        "id": "mqqM6ss_zDeY"
      }
    },
    {
      "cell_type": "code",
      "source": [
        "# downloads sample twitter dataset. uncomment the line below if running on a local machine.\n",
        "nltk.download('twitter_samples')"
      ],
      "metadata": {
        "colab": {
          "base_uri": "https://localhost:8080/"
        },
        "id": "0QzHFo13zChr",
        "outputId": "5464c2be-f2a6-4867-bdf9-161db48151c6"
      },
      "execution_count": 2,
      "outputs": [
        {
          "output_type": "stream",
          "name": "stderr",
          "text": [
            "[nltk_data] Downloading package twitter_samples to /root/nltk_data...\n",
            "[nltk_data]   Unzipping corpora/twitter_samples.zip.\n"
          ]
        },
        {
          "output_type": "execute_result",
          "data": {
            "text/plain": [
              "True"
            ]
          },
          "metadata": {},
          "execution_count": 2
        }
      ]
    },
    {
      "cell_type": "markdown",
      "source": [
        "We can load the text fields of the positive and negative tweets by using the module's strings() method like this:\n",
        "\n"
      ],
      "metadata": {
        "id": "5qx_6tNdzNrw"
      }
    },
    {
      "cell_type": "code",
      "source": [
        "# select the set of positive and negative tweets\n",
        "all_positive_tweets = twitter_samples.strings('positive_tweets.json')\n",
        "all_negative_tweets = twitter_samples.strings('negative_tweets.json')"
      ],
      "metadata": {
        "id": "znqgYt7nzJk7"
      },
      "execution_count": 3,
      "outputs": []
    },
    {
      "cell_type": "markdown",
      "source": [
        "Next, we'll print a report with the number of positive and negative tweets. It is essential to know the structure of the datasets."
      ],
      "metadata": {
        "id": "Hl38wy2-zdkA"
      }
    },
    {
      "cell_type": "code",
      "source": [
        "print(f\"Number of positive tweets: {len(all_positive_tweets)}\")\n",
        "print(f\"Numgber of negative tweets: {len(all_negative_tweets)}\")\n",
        "\n",
        "print(f\"The type of all_positive_tweets is: {type(all_positive_tweets)}\")\n",
        "print(f\"The type of a tweet entry is: {type(all_negative_tweets[0])}\")"
      ],
      "metadata": {
        "colab": {
          "base_uri": "https://localhost:8080/"
        },
        "id": "IA2hiQ48zcxt",
        "outputId": "23dd4786-f35e-49da-9a8d-90ddd8e209d1"
      },
      "execution_count": 6,
      "outputs": [
        {
          "output_type": "stream",
          "name": "stdout",
          "text": [
            "Number of positive tweets: 5000\n",
            "Numgber of negative tweets: 5000\n",
            "The type of all_positive_tweets is: <class 'list'>\n",
            "The type of a tweet entry is: <class 'str'>\n"
          ]
        }
      ]
    },
    {
      "cell_type": "markdown",
      "source": [],
      "metadata": {
        "id": "fBf5ZvaT03rp"
      }
    },
    {
      "cell_type": "code",
      "source": [],
      "metadata": {
        "id": "rkwiBLiAzu_S"
      },
      "execution_count": null,
      "outputs": []
    }
  ]
}